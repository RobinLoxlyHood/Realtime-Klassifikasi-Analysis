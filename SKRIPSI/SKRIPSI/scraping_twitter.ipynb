{
 "cells": [
  {
   "cell_type": "code",
   "execution_count": 1,
   "metadata": {},
   "outputs": [
    {
     "name": "stdout",
     "output_type": "stream",
     "text": [
      "1601355524158918657 2022-12-10 06:18:03 +0700 <RagamIndones1a> SAH! Daftar UMK Jawa Tengah Tahun 2023 untuk 35 Kabupaten/ Kota, Termasuk Solo, Salatiga, Blora, hingga Tegal - Ragam Indonesia  https://t.co/EQLS8dvqpU  https://t.co/7kUbcFZ5Gf\n",
      "1601338907953692672 2022-12-10 05:12:01 +0700 <Sate_Marem> Di kota kamu sudah musim hujan belum guys?  Paling enak tuh kalau pas hujan-hujan makan sate kambing muda &amp; nasi lengko #satetegalmarem, apalagi di temenin sama yang tersayang. Ah, makin komplit!  Cek lokasi: Sate Tegal Marem Jl. Dr. Setiabudhi 136 Jl. Kebonjati 27A Bandung  https://t.co/GpZehcGcGi\n",
      "1601250842317029378 2022-12-09 23:22:05 +0700 <bondanpasha> Top! Begini Semangat Taruna PKTJ Tegal Ikut Uji Kelaikan Bus di Terminal Kota Bekasi  https://t.co/zWoIbmmsrH\n",
      "1601203094410657793 2022-12-09 20:12:21 +0700 <GerindraTegal> Menhan RI, Prabowo Subianto, menyambangi para pengungsi bencana erupsi Gunung Semeru di Lumajang, Jawa Timur.  #prayforsemeru #mendingprabowo #prabowo #PrabowoSubianto #gerindra #jateng #jawatengah #gerindrajateng #gerindrajawatengah #dpcgerindra #kotategal #indonesia  https://t.co/rM2VdgABA2\n",
      "1601202986021457921 2022-12-09 20:11:55 +0700 <Kaanatsa> @Widino 2 tang premium bungkus biru. Karena di kota Tegal merek itu adalah comfort zone hehehe. Tapi Gopek juga enak.\n",
      "1601159721171369986 2022-12-09 17:20:00 +0700 <ElshintaTegal_> Replika tandu Jenderal Sudirman yang dipajang pada Pameran Kesejarahan, di Gedung Mulya Damai, Kota Tegal, mengundang  kekaguman pengunjung, khususnya para siswa. Mereka berusaha mengabadikan tandu  tersebut, bahkan berswafoto dengan latar belakang tandu.  Via @kominfo_jtg  https://t.co/fwRANGjSsk\n",
      "1601129740173447168 2022-12-09 15:20:52 +0700 <EviZaki> Kerja Bakti Dalam Rangka Renovasi Masjid Al - Amin Polres Tegal Kota. . Kapolres Tegal Kota beserta para personel Polres Tegal Kota melaksanakan kerja bakti dalam rangka Renovasi Masjid Al - Amin Polres Tegal Kota. Jum’at (9 Desember 2022).  https://t.co/bfblEhTF6U\n",
      "1601126194409517061 2022-12-09 15:06:46 +0700 <IklanDotPro> Pembicara…, Biro Jasa - Kota Tegal, IDR10.000.000,00 -  https://t.co/TxWNMfBa9d - #IklanGratis|IklanBarisOnline|IklanPro #BiroJasa #KotaTegal\n",
      "1601125494858321920 2022-12-09 15:04:00 +0700 <HTegalbarat> Kerja Bakti Dalam Rangka Renovasi Masjid Al - Amin Polres Tegal Kota. . Kapolres Tegal Kota beserta para personel Polres Tegal Kota melaksanakan kerja bakti dalam rangka Renovasi Masjid Al - Amin Polres Tegal Kota. Jum’at (9 Desember 2022).  https://t.co/2nHIqZkFPN\n",
      "1601122921812234243 2022-12-09 14:53:46 +0700 <Tachimukaiii> @psyducknM1234 @xoloverere @tegalfess Slerok, tegal kota\n",
      "1601122653149937665 2022-12-09 14:52:42 +0700 <HumasKawasan> Kerja Bakti Dalam Rangka Renovasi Masjid Al - Amin Polres Tegal Kota. . Kapolres Tegal Kota beserta para personel Polres Tegal Kota melaksanakan kerja bakti dalam rangka Renovasi Masjid Al - Amin Polres Tegal Kota. Jum’at (9 Desember 2022).  https://t.co/O6ccBfXg8o\n",
      "1601117591216365568 2022-12-09 14:32:35 +0700 <shaciee_> @sbtcon isinya kota besar semua AAKK. yok yg dari jadet alias tegal ada gaa?  https://t.co/TknUlhGrPM\n",
      "1601110805318991872 2022-12-09 14:05:37 +0700 <singgih_ls> @dukcapilslawi @DukcapilKDN @ganjarpranowo @humasjateng @LaporGub_ @umiazizah60 @HumasTegalkab @infotegal @InfoPewarta @sisilaintegal Mau Tanya Min, kalo mau bikin / ganti KTP baru setelah nikah, persyaratan apa aja ? Posisi saya sudah ngurus Surat Pindah Datang (dr kota ke kab. tegal) dan KK yang baru juga sudah jadi ini.\n",
      "1601109303771148289 2022-12-09 13:59:39 +0700 <HTegalbarat> Tumbuhkan Pola Hidup Sehat, TNI-Polri bersama Kampus UPS Kota Tegal Gelar Bersih-bersih Pantai. . Kota Tegal – Ratusan personel gabungan dari TNI-Polri dan Kampus Universitas Pancasakti (UPS) Kota Tegal melakukan kegiatan bersih-bersih pantai di kawasan PAI Tegal,  https://t.co/Y682WhOWGU\n",
      "1601100250529558529 2022-12-09 13:23:41 +0700 <EviZaki> Kota Tegal – Ratusan personel gabungan dari TNI-Polri dan Kampus Universitas Pancasakti (UPS) Kota Tegal melakukan kegiatan bersih-bersih pantai di kawasan Obyek Wisata Pantai Alam Indah Tegal, Jum’at (9/12/2022).  https://t.co/8YxS2XuwfC\n",
      "1601098365734858753 2022-12-09 13:16:12 +0700 <humasgaltim> Tumbuhkan Pola Hidup Sehat, TNI-Polri bersama Kampus UPS Kota Tegal Gelar Bersih-bersih Pantai. . Kota Tegal – Ratusan personel gabungan dari TNI-Polri dan Kampus Universitas Pancasakti (UPS) Kota Tegal melakukan kegiatan bersih-bersih pantai di kawasan Obyek Wisata Pantai Alam  https://t.co/lhhclDR6N0\n",
      "1601096865571045377 2022-12-09 13:10:14 +0700 <MiftachS10> @ZFArdR @detikcom Ya berarti daerah Tegal luar bakal dijadikan kota Mase Buat integrasi Bandung kan udah macet Masa ke Bandung semua orang numpuk\n",
      "1601094605197697024 2022-12-09 13:01:15 +0700 <verrianto_m> Tali Asih Tak Cair, Eks Anggota KPU Kota Tegal Gugat Pemerintah Rp 156 M  https://t.co/OnrGggWl70\n",
      "1601093095298199552 2022-12-09 12:55:15 +0700 <polseksumpang> Kota Tegal – Ratusan personel gabungan dari TNI-Polri dan Kampus Universitas Pancasakti (UPS) Kota Tegal melakukan kegiatan bersih-bersih pantai di kawasan Obyek Wisata Pantai Alam Indah Tegal, Jum’at (9/12/2022). #jumatbersih   #senambersama  #sinergitas  #polrestegalkota  https://t.co/InMmrpHmuH\n",
      "1601092546834624512 2022-12-09 12:53:04 +0700 <tegalfess> [TF] Bakso ter enak di tegal kota versi kalian dong guyss? 🙏\n",
      "1601090000145162240 2022-12-09 12:42:57 +0700 <HumasKawasan> Tumbuhkan Pola Hidup Sehat, TNI-Polri bersama Kampus UPS Kota Tegal Gelar Bersih-bersih Pantai. Kota Tegal – Ratusan personel gabungan dari TNI-Polri dan Kampus Universitas Pancasakti (UPS) Kota Tegal melakukan kegiatan bersih-bersih pantai di kawasan Obyek Wisata PAI Kota Tegal.  https://t.co/rpwKFhbDyD\n",
      "1601083914121904134 2022-12-09 12:18:46 +0700 <KPUKotaTegal> tentang Tahapan Pelaksanaan Pembentukan Badan Ad Hoc serta Penataan Daerah Pemilihan yang diselenggarakan oleh Bawaslu Kota Tegal di Kantor Bawaslu Kota Tegal Komplek PPIB Tegal.  #KPUMelayani #pemiluserentak2024\n",
      "1601078459773898752 2022-12-09 11:57:06 +0700 <KPUKotaTegal> (8/12) KPU Kota Tegal melaksanakan Rapat Pleno Hasil Verifikasi Faktual Perbaikan Kepengurusan dan Keanggotaan Partai Politik Calon Peserta Pemilu Tahun 2024 di aula KPU Kota Tegal. Berita lengkap di  https://t.co/GawmfNy3mH  #KPUMelayani #PemiluSerentak2024  https://t.co/hyLiWxvno3\n",
      "1601071953644728320 2022-12-09 11:31:14 +0700 <Ndu37284979> @jibotwo @ZFArdR @detikcom Ini tiket nya berapa sih sekali naik?  Awal nya bingung ini pemberhentian di Bandung dimana sih taunya tegal luar, buset ini mah jauh banget dgn asumsi banyakny org Jkt naik di weekend ya siap2 wassalam dengan macetnya menuju ke kota 😃\n",
      "1601071716419383297 2022-12-09 11:30:18 +0700 <berlianmedia1> PT Pertamina Patra Niaga Jawa Bagian Tengah (JBT) memberikan bantuan sarana keamanan dan kebersihan kepada pengelola Pelabuhan Perikanan Pantai (PPP) Tegalsari, Kota Tegal, Jawa Tengah.  https://t.co/kxlQ5uGc22\n",
      "1601067509083344896 2022-12-09 11:13:35 +0700 <NarkotikaLapas> KAKANWIL KEMENKUMHAM JATENG A YUSPAHRUDDIN: Yugo Indra Wicaksi Gantikan  Andi Yudho Sebagai Kepala Lapas Kota Tegal  https://t.co/grOMwlDV5o\n",
      "1601057679803154432 2022-12-09 10:34:31 +0700 <dpmptsptegal> Selasa (6/12) DPMPTSP Kota Tegal mengadakan kegiatan pelayanan pendaftaran izin di Kelurahan Tegalsari sebagai bentuk pendekatan layanan kepada masyarakat . . #terusbergerak #amazingservices  https://t.co/C3Nc3WcSaI\n",
      "1601047647850500096 2022-12-09 09:54:39 +0700 <cehaji_> Atiny ada yang di tegal kota kah??\n",
      "1601043069172092928 2022-12-09 09:36:28 +0700 <kominfo_jtg> Replika tandu Jenderal Sudirman yang dipajang pada Pameran Kesejarahan, di Gedung Mulya Damai, Kota Tegal, mengundang kekaguman pengunjung, khususnya para siswa. Mereka berusaha mengabadikan tandu tersebut, bahkan tak sedikit yang berswafoto dengan latar belakang tandu.  https://t.co/2UUZpAxYEV\n",
      "1601025938879549440 2022-12-09 08:28:24 +0700 <KakanimSKA> 2.KAKANWIL KEMENKUMHAM JATENG A YUSPAHRUDDIN: Yugo Indra Wicaksi Gantikan  Andi Yudho Sebagai Kepala Lapas Kota Tegal  https://t.co/Pshvn4h8Am\n",
      "1601020573383299073 2022-12-09 08:07:04 +0700 <GerindraTegal> #mendingprabowo #prabowo #PrabowoSubianto #gerindra #jateng #jawatengah #gerindrajateng #gerindrajawatengah #dpcgerindra #kotategal #indonesia #pulihlebihcepatbangkitlebihkuat  https://t.co/0sWNFY2xlj\n",
      "1600988524525678592 2022-12-09 05:59:43 +0700 <RUTAN_BNA> KAKANWIL KEMENKUMHAM JATENG A YUSPAHRUDDIN: Yugo Indra Wicaksi Gantikan  Andi Yudho Sebagai Kepala Lapas Kota Tegal  https://t.co/GLRCHqsgWm\n",
      "1600987008721383428 2022-12-09 05:53:42 +0700 <Kutlah88> @jibotwo @ZFArdR @detikcom Tegal luar menuju pusat Kota BDG itu JALUR HOROR MACET apalagi dijalan soekarno Hatta dan Kiaracondog..  Wkwkw\n",
      "1600927633453158401 2022-12-09 01:57:46 +0700 <rorokidal> Pertama liat bikin stasiun di padalarang sama tegal luar juga udah aneh, padalarang bandung barat, tegal luar kabupaten bandung, dua dua nya jauh dari bandung kota. Butuh sejam atau lebih buat ke pusat kota.\n",
      "1600906739356143617 2022-12-09 00:34:44 +0700 <ResidentSammy> @Anjoeh1975 @bachrum_achmadi klo mo disebut tegal luar hrs nya HALIM - TEGAL LUAR.. sama2 nama stasiun dan nama kota kecamatan. sdh bener namanya KCJB krn dr jkt menuju bandung Raya. itu nanti jd provinsi baru pemekaran jabar\n",
      "1600879381177434112 2022-12-08 22:46:02 +0700 <Prakarrsa> @tegalfess UMR segitu tidak sebanding dengan nafsuku dan maraknya jajanan yg update terus di kota tegal 😭\n",
      "1600877219139624961 2022-12-08 22:37:26 +0700 <pohonsaja> @jawafess Kota Tegal Haruse 2500 sih soale wis ana starbak wkwkk\n",
      "1600872303780241408 2022-12-08 22:17:54 +0700 <desky_danuaji> Niatnya Mau Sih Karaoke Aja di Pantura Kota Tegal, Eh Malah Dapet Service Enak Begini  *** Trending : Gempa #MrPrankIndonesia Mantap Gus Mojok Runtah Maroko Chelsea Island Mimpi Maljum KUHP Teroris  https://t.co/rYzvBHoKeW\n",
      "1600868801381568512 2022-12-08 22:03:59 +0700 <KPUKotaTegal> 1. Disertai dengan identitas pengirim (KTP elektronik) dan bukti yang dapat dipertanggungjawabkan 2. Diserahkan langsung ke kantor KPU Kota Tegal melalui email sdm.kpukotategal@gmail.com  #KPUMelayani #pemiluserentak2024\n",
      "1600846790559137792 2022-12-08 20:36:31 +0700 <RUTAN_BNA> KAKANWIL KEMENKUMHAM JATENG A YUSPAHRUDDIN: Wujud Pembinaan Kemandirian bagi WBP, Lapas Brebes Gandeng Poltek Harber Kota Tegal Persiapan Pelatihan  https://t.co/pzbw25hjmU\n",
      "1600841578557284352 2022-12-08 20:15:49 +0700 <infotegal> Upacara peringatan HUT RI ke 31 tahun 1976 dipimpin langsung oleh Walikota Tegal, Bapak Sardjoe. Menara Masjid Agung terlihat di sebelah kiri, tidak setinggi menara saat ini. Unik yah.   Sumber Foto: Kearsipan Kota Tegal Tahun: 1976  https://t.co/miorNIaL6i\n",
      "1600840820147773446 2022-12-08 20:12:48 +0700 <Bapas_Magelang> KAKANWIL KEMENKUMHAM JATENG A YUSPAHRUDDIN: Yugo Indra Wicaksi Gantikan  Andi Yudho Sebagai Kepala Lapas Kota Tegal  https://t.co/sYwNjUjplV\n",
      "1600840106696355840 2022-12-08 20:09:58 +0700 <LapasPermisanNK> KAKANWIL KEMENKUMHAM JATENG A YUSPAHRUDDIN: Yugo Indra Wicaksi Gantikan  Andi Yudho Sebagai Kepala Lapas Kota Tegal  https://t.co/FlGluOhaRF\n",
      "1600838295503736832 2022-12-08 20:02:46 +0700 <lapaspekalongan> KAKANWIL KEMENKUMHAM JATENG A YUSPAHRUDDIN: Yugo Indra Wicaksi Gantikan Andi Yudho Sebagai Kepala Lapas Kota Tegal  https://t.co/vwD3HcSqAV\n",
      "1600838000103292928 2022-12-08 20:01:36 +0700 <Inggit_Wardani> @bliblidotcom Kota Tegal #BliMinBeliin #BliBliTerbaikDeh\n",
      "1600831409115234304 2022-12-08 19:35:24 +0700 <meyliaaaaaaaa> @tegalfess Di Banjaran depan basa , kalo di Tegal kota di Bombay\n",
      "1600829865439428608 2022-12-08 19:29:16 +0700 <pegipegi> 📌 TEGAL PANJANG, GARUT  Satu lagi tempat wisata di Garut yang tidak kalah mengagumkan, yaitu Tegal Panjang yang bisa ditempuh kurang lebih tiga jam dari pusat Kota Garut. Untuk menyaksikan pesona savana hijau yang indah, biasanya banyak wisatawan yang mendaki Gunung Papandayan.  https://t.co/hv4BLXzIC2\n",
      "1600829661797384192 2022-12-08 19:28:28 +0700 <BapasSmrg> KAKANWIL KEMENKUMHAM JATENG A YUSPAHRUDDIN: Yugo Indra Wicaksi Gantikan Andi Yudho Sebagai Kepala Lapas Kota Tegal  https://t.co/DDJLa3it3f\n",
      "1600829652272287745 2022-12-08 19:28:25 +0700 <lppurwokerto> KAKANWIL KEMENKUMHAM JATENG A YUSPAHRUDDIN: Yugo Indra Wicaksi Gantikan  Andi Yudho Sebagai Kepala Lapas Kota Tegal  https://t.co/7mq5skOvbb\n",
      "1600828564219498497 2022-12-08 19:24:06 +0700 <tegalfess> Studio foto buat foto setengah badan yg rekomended di Tegal Kota di mana ya? [Tf]\n",
      "1600826427225608192 2022-12-08 19:15:36 +0700 <LapasPlantungan> KAKANWIL KEMENKUMHAM JATENG A YUSPAHRUDDIN: Yugo Indra Wicaksi Gantikan Andi Yudho Sebagai Kepala Lapas Kota Tegal  https://t.co/7QnZ3H3vaX\n",
      "1600825995539292161 2022-12-08 19:13:53 +0700 <lapasambarawa> KAKANWIL KEMENKUMHAM JATENG A YUSPAHRUDDIN: Yugo Indra Wicaksi Gantikan  Andi Yudho Sebagai Kepala Lapas Kota Tegal  https://t.co/TxI0cwbJCb\n",
      "[!] No more data! Scraping will stop now.\n",
      "found 0 deleted tweets in this search.\n"
     ]
    }
   ],
   "source": [
    "import twint\n",
    "import nest_asyncio\n",
    "\n",
    "nest_asyncio.apply()\n",
    "c= twint.Config()\n",
    "\n",
    "# c.Username = \"KawalCOVID19\"\n",
    "c.Since = \"2022-01-01\"\n",
    "c.Until = \"2022-12-10\"\n",
    "c.Search = \"Kota Tegal\"\n",
    "c.Limit = 2000\n",
    "c.Pandas = True\n",
    "\n",
    "twint.run.Search(c)"
   ]
  },
  {
   "cell_type": "code",
   "execution_count": 2,
   "metadata": {},
   "outputs": [],
   "source": [
    "def column_names():\n",
    "  return twint.output.panda.Tweets_df.columns\n",
    "\n",
    "def twint_to_pd(columns):\n",
    "  return twint.output.panda.Tweets_df[columns]"
   ]
  },
  {
   "cell_type": "code",
   "execution_count": 3,
   "metadata": {},
   "outputs": [
    {
     "data": {
      "text/html": [
       "<div>\n",
       "<style scoped>\n",
       "    .dataframe tbody tr th:only-of-type {\n",
       "        vertical-align: middle;\n",
       "    }\n",
       "\n",
       "    .dataframe tbody tr th {\n",
       "        vertical-align: top;\n",
       "    }\n",
       "\n",
       "    .dataframe thead th {\n",
       "        text-align: right;\n",
       "    }\n",
       "</style>\n",
       "<table border=\"1\" class=\"dataframe\">\n",
       "  <thead>\n",
       "    <tr style=\"text-align: right;\">\n",
       "      <th></th>\n",
       "      <th>date</th>\n",
       "      <th>username</th>\n",
       "      <th>tweet</th>\n",
       "    </tr>\n",
       "  </thead>\n",
       "  <tbody>\n",
       "    <tr>\n",
       "      <th>47</th>\n",
       "      <td>2022-12-08 19:28:28</td>\n",
       "      <td>BapasSmrg</td>\n",
       "      <td>KAKANWIL KEMENKUMHAM JATENG A YUSPAHRUDDIN: Yu...</td>\n",
       "    </tr>\n",
       "    <tr>\n",
       "      <th>48</th>\n",
       "      <td>2022-12-08 19:28:25</td>\n",
       "      <td>lppurwokerto</td>\n",
       "      <td>KAKANWIL KEMENKUMHAM JATENG A YUSPAHRUDDIN: Yu...</td>\n",
       "    </tr>\n",
       "    <tr>\n",
       "      <th>49</th>\n",
       "      <td>2022-12-08 19:24:06</td>\n",
       "      <td>tegalfess</td>\n",
       "      <td>Studio foto buat foto setengah badan yg rekome...</td>\n",
       "    </tr>\n",
       "    <tr>\n",
       "      <th>50</th>\n",
       "      <td>2022-12-08 19:15:36</td>\n",
       "      <td>LapasPlantungan</td>\n",
       "      <td>KAKANWIL KEMENKUMHAM JATENG A YUSPAHRUDDIN: Yu...</td>\n",
       "    </tr>\n",
       "    <tr>\n",
       "      <th>51</th>\n",
       "      <td>2022-12-08 19:13:53</td>\n",
       "      <td>lapasambarawa</td>\n",
       "      <td>KAKANWIL KEMENKUMHAM JATENG A YUSPAHRUDDIN: Yu...</td>\n",
       "    </tr>\n",
       "  </tbody>\n",
       "</table>\n",
       "</div>"
      ],
      "text/plain": [
       "                   date         username  \\\n",
       "47  2022-12-08 19:28:28        BapasSmrg   \n",
       "48  2022-12-08 19:28:25     lppurwokerto   \n",
       "49  2022-12-08 19:24:06        tegalfess   \n",
       "50  2022-12-08 19:15:36  LapasPlantungan   \n",
       "51  2022-12-08 19:13:53    lapasambarawa   \n",
       "\n",
       "                                                tweet  \n",
       "47  KAKANWIL KEMENKUMHAM JATENG A YUSPAHRUDDIN: Yu...  \n",
       "48  KAKANWIL KEMENKUMHAM JATENG A YUSPAHRUDDIN: Yu...  \n",
       "49  Studio foto buat foto setengah badan yg rekome...  \n",
       "50  KAKANWIL KEMENKUMHAM JATENG A YUSPAHRUDDIN: Yu...  \n",
       "51  KAKANWIL KEMENKUMHAM JATENG A YUSPAHRUDDIN: Yu...  "
      ]
     },
     "execution_count": 3,
     "metadata": {},
     "output_type": "execute_result"
    }
   ],
   "source": [
    "hasil_scraping = twint_to_pd(['date','username','tweet'])\n",
    "hasil_scraping.tail()\n"
   ]
  },
  {
   "cell_type": "code",
   "execution_count": 4,
   "metadata": {},
   "outputs": [],
   "source": [
    "hasil_scraping.to_csv(\"Scraping_kota_tegal_II.csv\", index=False)"
   ]
  },
  {
   "cell_type": "code",
   "execution_count": null,
   "metadata": {},
   "outputs": [],
   "source": []
  }
 ],
 "metadata": {
  "kernelspec": {
   "display_name": "Python 3",
   "language": "python",
   "name": "python3"
  },
  "language_info": {
   "codemirror_mode": {
    "name": "ipython",
    "version": 3
   },
   "file_extension": ".py",
   "mimetype": "text/x-python",
   "name": "python",
   "nbconvert_exporter": "python",
   "pygments_lexer": "ipython3",
   "version": "3.9.4"
  },
  "orig_nbformat": 4,
  "vscode": {
   "interpreter": {
    "hash": "60a61259bd30a4340a9723674d17cf7cb4e5e5fda8c8996df039e6704bf7359c"
   }
  }
 },
 "nbformat": 4,
 "nbformat_minor": 2
}
