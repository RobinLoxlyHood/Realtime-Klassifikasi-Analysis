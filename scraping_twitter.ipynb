{
 "cells": [
  {
   "cell_type": "code",
   "execution_count": 2,
   "metadata": {},
   "outputs": [
    {
     "name": "stdout",
     "output_type": "stream",
     "text": [
      "1608491031879905282 2022-12-29 22:52:00 +0700 <anakssoleh29> Pertama kalinya ke city walk tegal. Hahaaa  https://t.co/InXMPX2bpr\n",
      "1607970247121973248 2022-12-28 12:22:36 +0700 <itzlfaa> @tegalfess Mixue sultan agung yg sebelum rel kereta arah jalan 1 ke Tegal kota itu😃 sekitar Tegal city walk, sama si tirus(?) Sebelum pasific mall\n",
      "1607545139937021954 2022-12-27 08:13:22 +0700 <SlawiPosUpdate> Keindahan Batik dan Tenun Goyor Tegal di Tampilkan di City Walk Fashion Show  https://t.co/6jbD1LlIl6\n",
      "1607486693829152768 2022-12-27 04:21:08 +0700 <beritaekonomi24> Batik dan Tenun Goyor Tegal Diperagakan dalam City Walk Fashion Show On The Street  https://t.co/qEKMQ8AuKH\n",
      "1601401863387029504 2022-12-10 09:22:11 +0700 <dpmptsptegal> Senin (5/12) bertempat di Ruang Rapat Lt2 Sekretariat Daerah Kota Tegal, Pemerintah Kota Tegal melaksanakan evaluasi pelaksanaan Kegiatan Wisata Pelayanan Publik (WPP) City Walk yang diikuti seluruh instansi yang ikut bergabung  #terusbergerak #amazinginvestment #amazingservices  https://t.co/o0VgCHHxMZ\n",
      "1596496900525412353 2022-11-26 20:31:37 +0700 <infotegal> Selamat malam, ada yang suka suasana hujan pas malam hari? Biar air saja yang menggenang, jangan kenangan. Salam sayang dari Kawasan City Walk Jalan Ahmad Yani Tegal yang menjadi saksi bisu hujan-hujanan sambil boncengin si doi tapi ternyata doi sudah ada yang punya.. .  https://t.co/2A72vxHfM5\n",
      "1591434079509286913 2022-11-12 21:13:46 +0700 <infotegal> Hayo, Malam Mingguan ke mana kali ini? Tegal Citywalk, Taman Pancasila, AAHS, AAT atau di mana nih?   Rekomendasikan lagi dong tempat-tempat seru lainnya agar bisa saling meramaikan.   #Tegal #Slawi #infotegal  https://t.co/d7QAh4btA6\n",
      "1588868226938998784 2022-11-05 19:17:59 +0700 <ariarhit> @miasilfiani Di Tegal City walk, Di kapten sudibyo sama jalanan sekitar kardinah sebelum rel Sepur Mi.\n",
      "1584428778352410624 2022-10-24 13:17:12 +0700 <DisdukTegalKota> Daftar KTP Digital di HP kamu gampang lho caranya...ikuti cara dibawah ini dan kunjungi kami di Kantor Disdukcapil Kota Tegal, TPDK Kecamatan atau di Mobil Pelayanan Kawasan City Walk Kota Tegal. • • #pemkottegal #kotategal #dukcapilkotategal #dukcapilgodigital #pencatatansipil  https://t.co/1iLMym0ZUc\n",
      "1581272884105732096 2022-10-15 20:16:48 +0700 <infotegal> Penampakan Tegal City Walk pada malam hari, khususnya di perempatan lampu merah gantung dari atas.   Siapa nih yang suka menghabiskan malam di tempat ini?   #Tegal #Slawi #infotegal  https://t.co/XqBOsxckhX\n",
      "1579745681237233667 2022-10-11 15:08:15 +0700 <DisdukTegalKota> Buat kamu yang sedang melintas di kawasan City Walk Jl. Ahmad Yani Kota Tegal, jangan buru-buru lewat ya... ada banyak pelayanan publik yang hadir disini loh...salah satunya Disdukcapil Kota Tegal,. Yuk datang dan ramaikan....  https://t.co/ehAW1sZUZs\n",
      "1579722865834102785 2022-10-11 13:37:35 +0700 <lppurwokerto> KAKANWIL KEMENKUMHAM JATENG A YUSPAHRUDDIN: Wali Kota Tegal Launching Wisata Pelayanan Publik di City Walk  https://t.co/xEqxPqfFl1\n",
      "1579722860570247170 2022-10-11 13:37:34 +0700 <lppurwokerto> KAKANWIL KEMENKUMHAM JATENG A YUSPAHRUDDIN: 113 Layanan Hadir di Wisata Pelayanan Publik City Walk Kota Tegal  https://t.co/tKrhLtww0G\n",
      "1578665716185710594 2022-10-08 15:36:51 +0700 <mantiq_media> Ke Tegal? Mampir ke Wisata Pelayanan Publik di City Walk, Bisa Bikin KTP hingga Paspor  https://t.co/wM3Ogq2qlk\n",
      "1578192185349967873 2022-10-07 08:15:13 +0700 <lapas_pati> KAKANWIL KEMENKUMHAM JATENG A YUSPAHRUDDIN: Permudah Masyarakat, Kantor Imigrasi Pemalang Buka Layanan di Wisata Pelayanan Publik City Walk Tegal  https://t.co/3y0hogIIPj\n",
      "[!] No more data! Scraping will stop now.\n",
      "found 0 deleted tweets in this search.\n"
     ]
    }
   ],
   "source": [
    "import twint\n",
    "import nest_asyncio\n",
    "\n",
    "nest_asyncio.apply()\n",
    "c= twint.Config()\n",
    "\n",
    "#c.Username = \"KawalCOVID19\"\n",
    "c.Since = \"2021-08-01\"\n",
    "c.Until = \"2023-01-10\"\n",
    "c.Search = \"City Walk Tegal\"\n",
    "#c.Geo=\"-7.260816, 110.205785, 16400km\"\n",
    "#c.Output = \"RachelVenya.csv\"\n",
    "c.Pandas = True\n",
    "\n",
    "twint.run.Search(c)"
   ]
  },
  {
   "cell_type": "code",
   "execution_count": 3,
   "metadata": {},
   "outputs": [],
   "source": [
    "def column_names():\n",
    "  return twint.output.panda.Tweets_df.columns\n",
    "\n",
    "def twint_to_pd(columns):\n",
    "  return twint.output.panda.Tweets_df[columns]"
   ]
  },
  {
   "cell_type": "code",
   "execution_count": 5,
   "metadata": {},
   "outputs": [
    {
     "data": {
      "text/html": [
       "<div>\n",
       "<style scoped>\n",
       "    .dataframe tbody tr th:only-of-type {\n",
       "        vertical-align: middle;\n",
       "    }\n",
       "\n",
       "    .dataframe tbody tr th {\n",
       "        vertical-align: top;\n",
       "    }\n",
       "\n",
       "    .dataframe thead th {\n",
       "        text-align: right;\n",
       "    }\n",
       "</style>\n",
       "<table border=\"1\" class=\"dataframe\">\n",
       "  <thead>\n",
       "    <tr style=\"text-align: right;\">\n",
       "      <th></th>\n",
       "      <th>date</th>\n",
       "      <th>username</th>\n",
       "      <th>tweet</th>\n",
       "    </tr>\n",
       "  </thead>\n",
       "  <tbody>\n",
       "    <tr>\n",
       "      <th>10</th>\n",
       "      <td>2022-10-11 15:08:15</td>\n",
       "      <td>DisdukTegalKota</td>\n",
       "      <td>Buat kamu yang sedang melintas di kawasan City...</td>\n",
       "    </tr>\n",
       "    <tr>\n",
       "      <th>11</th>\n",
       "      <td>2022-10-11 13:37:35</td>\n",
       "      <td>lppurwokerto</td>\n",
       "      <td>KAKANWIL KEMENKUMHAM JATENG A YUSPAHRUDDIN: Wa...</td>\n",
       "    </tr>\n",
       "    <tr>\n",
       "      <th>12</th>\n",
       "      <td>2022-10-11 13:37:34</td>\n",
       "      <td>lppurwokerto</td>\n",
       "      <td>KAKANWIL KEMENKUMHAM JATENG A YUSPAHRUDDIN: 11...</td>\n",
       "    </tr>\n",
       "    <tr>\n",
       "      <th>13</th>\n",
       "      <td>2022-10-08 15:36:51</td>\n",
       "      <td>mantiq_media</td>\n",
       "      <td>Ke Tegal? Mampir ke Wisata Pelayanan Publik di...</td>\n",
       "    </tr>\n",
       "    <tr>\n",
       "      <th>14</th>\n",
       "      <td>2022-10-07 08:15:13</td>\n",
       "      <td>lapas_pati</td>\n",
       "      <td>KAKANWIL KEMENKUMHAM JATENG A YUSPAHRUDDIN: Pe...</td>\n",
       "    </tr>\n",
       "  </tbody>\n",
       "</table>\n",
       "</div>"
      ],
      "text/plain": [
       "                   date         username  \\\n",
       "10  2022-10-11 15:08:15  DisdukTegalKota   \n",
       "11  2022-10-11 13:37:35     lppurwokerto   \n",
       "12  2022-10-11 13:37:34     lppurwokerto   \n",
       "13  2022-10-08 15:36:51     mantiq_media   \n",
       "14  2022-10-07 08:15:13       lapas_pati   \n",
       "\n",
       "                                                tweet  \n",
       "10  Buat kamu yang sedang melintas di kawasan City...  \n",
       "11  KAKANWIL KEMENKUMHAM JATENG A YUSPAHRUDDIN: Wa...  \n",
       "12  KAKANWIL KEMENKUMHAM JATENG A YUSPAHRUDDIN: 11...  \n",
       "13  Ke Tegal? Mampir ke Wisata Pelayanan Publik di...  \n",
       "14  KAKANWIL KEMENKUMHAM JATENG A YUSPAHRUDDIN: Pe...  "
      ]
     },
     "execution_count": 5,
     "metadata": {},
     "output_type": "execute_result"
    }
   ],
   "source": [
    "hasil_scraping = twint_to_pd(['date','username','tweet'])\n",
    "hasil_scraping.tail()\n"
   ]
  },
  {
   "cell_type": "code",
   "execution_count": 7,
   "metadata": {},
   "outputs": [],
   "source": [
    "hasil_scraping.to_csv(\"citywalk_tegal.csv\", index=False)"
   ]
  },
  {
   "cell_type": "code",
   "execution_count": 9,
   "metadata": {},
   "outputs": [
    {
     "name": "stdout",
     "output_type": "stream",
     "text": [
      "1595421007992721408 2022-11-23 21:16:24 +0700 <edwindharma_s> @Jowo_Jawi malioboronya Tegal\n",
      "1579895308544196608 2022-10-12 01:02:49 +0700 <Satrio13_> @fajarnugros Saya si cuma warga Kab. Tegal bukan kotanya melihat Pemkot Tegal ngadain proyek terus dari revitalisasi kawasan alun2, proyek malioboronya tegal, ditambah ini terus aneka festival ada terus, sebenernya itu semua buat siapa dan penting ga sih?\n",
      "1518338167903948801 2022-04-25 04:16:43 +0700 <BeritakuKabar> H -7 Idul Fitri Lalu Lintas di Malioboronya Tegal \"Macet\"  https://t.co/YWXCypGVfv via @YouTube  #Mudik2022 #idulfitri #jelanglabaran\n",
      "1483328726507028481 2022-01-18 13:41:41 +0700 <kumparan> PKL menolak kebijakan penggunaan food truck di kawasan City Walk Jalan Ahmad Yani atau kawasan Malioboronya Tegal. #publisherstory  https://t.co/Pz1b6iChaB\n",
      "1464208894931079176 2021-11-26 19:26:18 +0700 <rirerd> @cqppuccino0o aamiin, gaasss malioboronya tegal wkwk\n",
      "1455432830016638976 2021-11-02 14:13:21 +0700 <ArsyKata> @mojokdotco Wow Tegal sampe Mojok,  Jgn lupa mampir min kalau 'Malioboronya Tegal' jadi hihi\n",
      "1454813611717582866 2021-10-31 21:12:48 +0700 <rofisuprimanto> di tegal ada tempat baru namanya taman pancasila, letak persis di depan stasiun tegal.  terus di sepanjang jalan ke arah pasar pagi jalannya lagi dibongkar, katanya rencananya mau dibuat semacam malioboronya tegal.  pertanyaan pertama: apa sih yg dipikirin?\n",
      "1431105223964049412 2021-08-27 11:04:08 +0700 <canthingku> @infotegal Min malioboronya tegal ngk diliput?\n",
      "[!] No more data! Scraping will stop now.\n",
      "found 0 deleted tweets in this search.\n"
     ]
    }
   ],
   "source": [
    "c= twint.Config()\n",
    "\n",
    "#c.Username = \"KawalCOVID19\"\n",
    "c.Since = \"2021-08-01\"\n",
    "c.Until = \"2023-01-10\"\n",
    "c.Search = \"Malioboronya Tegal\"\n",
    "#c.Geo=\"-7.260816, 110.205785, 16400km\"\n",
    "#c.Output = \"RachelVenya.csv\"\n",
    "c.Pandas = True\n",
    "\n",
    "twint.run.Search(c)"
   ]
  },
  {
   "cell_type": "code",
   "execution_count": 10,
   "metadata": {},
   "outputs": [
    {
     "data": {
      "text/html": [
       "<div>\n",
       "<style scoped>\n",
       "    .dataframe tbody tr th:only-of-type {\n",
       "        vertical-align: middle;\n",
       "    }\n",
       "\n",
       "    .dataframe tbody tr th {\n",
       "        vertical-align: top;\n",
       "    }\n",
       "\n",
       "    .dataframe thead th {\n",
       "        text-align: right;\n",
       "    }\n",
       "</style>\n",
       "<table border=\"1\" class=\"dataframe\">\n",
       "  <thead>\n",
       "    <tr style=\"text-align: right;\">\n",
       "      <th></th>\n",
       "      <th>date</th>\n",
       "      <th>username</th>\n",
       "      <th>tweet</th>\n",
       "    </tr>\n",
       "  </thead>\n",
       "  <tbody>\n",
       "    <tr>\n",
       "      <th>3</th>\n",
       "      <td>2022-01-18 13:41:41</td>\n",
       "      <td>kumparan</td>\n",
       "      <td>PKL menolak kebijakan penggunaan food truck di...</td>\n",
       "    </tr>\n",
       "    <tr>\n",
       "      <th>4</th>\n",
       "      <td>2021-11-26 19:26:18</td>\n",
       "      <td>rirerd</td>\n",
       "      <td>@cqppuccino0o aamiin, gaasss malioboronya tega...</td>\n",
       "    </tr>\n",
       "    <tr>\n",
       "      <th>5</th>\n",
       "      <td>2021-11-02 14:13:21</td>\n",
       "      <td>ArsyKata</td>\n",
       "      <td>@mojokdotco Wow Tegal sampe Mojok,  Jgn lupa m...</td>\n",
       "    </tr>\n",
       "    <tr>\n",
       "      <th>6</th>\n",
       "      <td>2021-10-31 21:12:48</td>\n",
       "      <td>rofisuprimanto</td>\n",
       "      <td>di tegal ada tempat baru namanya taman pancasi...</td>\n",
       "    </tr>\n",
       "    <tr>\n",
       "      <th>7</th>\n",
       "      <td>2021-08-27 11:04:08</td>\n",
       "      <td>canthingku</td>\n",
       "      <td>@infotegal Min malioboronya tegal ngk diliput?</td>\n",
       "    </tr>\n",
       "  </tbody>\n",
       "</table>\n",
       "</div>"
      ],
      "text/plain": [
       "                  date        username  \\\n",
       "3  2022-01-18 13:41:41        kumparan   \n",
       "4  2021-11-26 19:26:18          rirerd   \n",
       "5  2021-11-02 14:13:21        ArsyKata   \n",
       "6  2021-10-31 21:12:48  rofisuprimanto   \n",
       "7  2021-08-27 11:04:08      canthingku   \n",
       "\n",
       "                                               tweet  \n",
       "3  PKL menolak kebijakan penggunaan food truck di...  \n",
       "4  @cqppuccino0o aamiin, gaasss malioboronya tega...  \n",
       "5  @mojokdotco Wow Tegal sampe Mojok,  Jgn lupa m...  \n",
       "6  di tegal ada tempat baru namanya taman pancasi...  \n",
       "7     @infotegal Min malioboronya tegal ngk diliput?  "
      ]
     },
     "execution_count": 10,
     "metadata": {},
     "output_type": "execute_result"
    }
   ],
   "source": [
    "hasil_scraping = twint_to_pd(['date','username','tweet'])\n",
    "hasil_scraping.tail()"
   ]
  },
  {
   "cell_type": "code",
   "execution_count": null,
   "metadata": {},
   "outputs": [],
   "source": []
  }
 ],
 "metadata": {
  "kernelspec": {
   "display_name": "skripsiSentimet",
   "language": "python",
   "name": "skripsisentimet"
  },
  "language_info": {
   "codemirror_mode": {
    "name": "ipython",
    "version": 3
   },
   "file_extension": ".py",
   "mimetype": "text/x-python",
   "name": "python",
   "nbconvert_exporter": "python",
   "pygments_lexer": "ipython3",
   "version": "3.9.7"
  },
  "orig_nbformat": 4,
  "vscode": {
   "interpreter": {
    "hash": "b78460b3884aae24b39704d0bda76b718be2ebf0021e78403eba9edf8540ddb2"
   }
  }
 },
 "nbformat": 4,
 "nbformat_minor": 2
}
